{
 "cells": [
  {
   "cell_type": "markdown",
   "id": "51bcdb13",
   "metadata": {},
   "source": [
    "# Week 1 Day 1 lab"
   ]
  },
  {
   "cell_type": "markdown",
   "id": "2d2c435c",
   "metadata": {},
   "source": [
    "## Topics we will cover:\n",
    "1. Printing\n",
    "2. Comments\n",
    "3. Variables\n",
    "4. Arithmetic and comparisons\n",
    "5. Lists\n",
    "6. Conditionals (if statements)"
   ]
  },
  {
   "cell_type": "markdown",
   "id": "6c1293ed",
   "metadata": {},
   "source": [
    "## Printing"
   ]
  },
  {
   "cell_type": "code",
   "execution_count": 1,
   "id": "5a7fe869",
   "metadata": {},
   "outputs": [
    {
     "name": "stdout",
     "output_type": "stream",
     "text": [
      "Hello World\n"
     ]
    }
   ],
   "source": [
    "# Block 1 - Welcome to coding! Try printing \"hello world\"\n",
    "print(\"Hello World\")"
   ]
  },
  {
   "cell_type": "code",
   "execution_count": 2,
   "id": "c5dd2eb4",
   "metadata": {},
   "outputs": [
    {
     "name": "stdout",
     "output_type": "stream",
     "text": [
      "Chaney, welcome to quantum camp\n"
     ]
    }
   ],
   "source": [
    "# Block 2 - Try printing your name! \n",
    "# Print “_____, welcome to quantum camp” where the blank is your name.\n",
    "print(\"Chaney, welcome to quantum camp\")"
   ]
  },
  {
   "cell_type": "markdown",
   "id": "9073d8a2",
   "metadata": {},
   "source": [
    "## Comments"
   ]
  },
  {
   "cell_type": "code",
   "execution_count": 3,
   "id": "0343f684",
   "metadata": {},
   "outputs": [
    {
     "name": "stdout",
     "output_type": "stream",
     "text": [
      "No\n"
     ]
    }
   ],
   "source": [
    "# Block 3 - Try leaving a comment after your code in Block 2. \n",
    "# Did your comment affect the output?\n",
    "print(\"No\")"
   ]
  },
  {
   "cell_type": "markdown",
   "id": "21a616c8",
   "metadata": {},
   "source": [
    "## Variables"
   ]
  },
  {
   "cell_type": "code",
   "execution_count": 5,
   "id": "21482e88",
   "metadata": {},
   "outputs": [],
   "source": [
    "# Block 4 – Run this block to create the variable cats and store the value 3 in it.\n",
    "\n",
    "cats = 3"
   ]
  },
  {
   "cell_type": "code",
   "execution_count": 6,
   "id": "5f1052cd",
   "metadata": {},
   "outputs": [
    {
     "name": "stdout",
     "output_type": "stream",
     "text": [
      "3\n"
     ]
    }
   ],
   "source": [
    "# Block 5 - Run this block to create the variable cats, store the value 3 in it, and print the variable.\n",
    "\n",
    "cats = 3\n",
    "print(cats)"
   ]
  },
  {
   "cell_type": "code",
   "execution_count": null,
   "id": "e6339712",
   "metadata": {},
   "outputs": [],
   "source": [
    "# Block 6 - Create your own variable! Store a number in it, and then print the variable. \n",
    "# Is the output what you expected?\n",
    "sample_variable = \"sample variable\""
   ]
  },
  {
   "cell_type": "code",
   "execution_count": 7,
   "id": "7f9c5718",
   "metadata": {},
   "outputs": [
    {
     "name": "stdout",
     "output_type": "stream",
     "text": [
      "Sarah\n"
     ]
    }
   ],
   "source": [
    "# Block 7 - Run this block to print the name “Sarah”\n",
    "\n",
    "name = \"Sarah\"\n",
    "print(name)"
   ]
  },
  {
   "cell_type": "code",
   "execution_count": 8,
   "id": "bb639d6b",
   "metadata": {},
   "outputs": [
    {
     "name": "stdout",
     "output_type": "stream",
     "text": [
      "My name is Chaney.\n"
     ]
    }
   ],
   "source": [
    "# Block 8 - Run this block to print “My name is Sarah”. Try changing the variable name and check the output. \n",
    "# Is it what you expected?\n",
    "\n",
    "name = \"Chaney\"\n",
    "print(\"My name is \"+ name + \".\")"
   ]
  },
  {
   "cell_type": "code",
   "execution_count": 9,
   "id": "91a0cbfc",
   "metadata": {},
   "outputs": [
    {
     "name": "stdout",
     "output_type": "stream",
     "text": [
      "The name of my hometown is Windermere, Florida\n"
     ]
    }
   ],
   "source": [
    "# Block 9 - Store the name of your hometown in a variable. \n",
    "# Print “The name of my hometown is _____” by using a print statement, along with the variable you created.\n",
    "print(\"The name of my hometown is Windermere, Florida\")"
   ]
  },
  {
   "cell_type": "markdown",
   "id": "0fdabbd9",
   "metadata": {},
   "source": [
    "## Basic arithmetic and Comparisons"
   ]
  },
  {
   "cell_type": "code",
   "execution_count": 10,
   "id": "c60e77f8",
   "metadata": {},
   "outputs": [],
   "source": [
    "# Block 10 - Copy down this code and run it. Is the output what you expected? \n",
    "# Try changing the values of x and y. Is the output still what you expect?\n",
    "x, y = 3, 4"
   ]
  },
  {
   "cell_type": "code",
   "execution_count": 11,
   "id": "7fa6742a",
   "metadata": {},
   "outputs": [
    {
     "name": "stdout",
     "output_type": "stream",
     "text": [
      "There are more oranges\n"
     ]
    }
   ],
   "source": [
    "# Block 11 - Run this block to compare the number of apples and oranges. Is the output what you expected?\n",
    "apples, oranges = 5, 8\n",
    "\n",
    "if apples > oranges:\n",
    "    print(\"There are more apples\")\n",
    "else:\n",
    "    print(\"There are more oranges\")"
   ]
  },
  {
   "cell_type": "code",
   "execution_count": 13,
   "id": "a6764e8f",
   "metadata": {},
   "outputs": [
    {
     "name": "stdout",
     "output_type": "stream",
     "text": [
      "Mucho siblings\n"
     ]
    }
   ],
   "source": [
    "# Block 12 - Store the number of siblings you have in a variable. Compare your number of siblings to 2. What is the output?\n",
    "siblings_no = 3\n",
    "\n",
    "if siblings_no > 2:\n",
    "    print(\"Mucho siblings\")\n",
    "else:\n",
    "    print(\"No siblings\")"
   ]
  },
  {
   "cell_type": "markdown",
   "id": "fc59509d",
   "metadata": {},
   "source": [
    "## Lists"
   ]
  },
  {
   "cell_type": "code",
   "execution_count": 14,
   "id": "da19f267",
   "metadata": {},
   "outputs": [
    {
     "name": "stdout",
     "output_type": "stream",
     "text": [
      "['Dark choclate', 'Nothing else']\n"
     ]
    }
   ],
   "source": [
    "#BLOCK 13 - Store a list of your favorite candy in order of preference\n",
    "\n",
    "favorite_candy = [\"Dark choclate\", \"Nothing else\"]\n",
    "\n",
    "print(favorite_candy)"
   ]
  },
  {
   "cell_type": "code",
   "execution_count": 15,
   "id": "1253f9bd",
   "metadata": {},
   "outputs": [
    {
     "data": {
      "text/plain": [
       "'Nothing else'"
      ]
     },
     "execution_count": 15,
     "metadata": {},
     "output_type": "execute_result"
    }
   ],
   "source": [
    "# BLOCK 14 - Print the third item on your list of favorite candies\n",
    "\n",
    "favorite_candy[1]\n"
   ]
  },
  {
   "cell_type": "code",
   "execution_count": 16,
   "id": "d73c8a31",
   "metadata": {},
   "outputs": [
    {
     "name": "stdout",
     "output_type": "stream",
     "text": [
      "['Dark choclate', 'Nothing else', 'Nothing else']\n"
     ]
    }
   ],
   "source": [
    "# BLOCK 15  - Add another item to your list of favorite candy\n",
    "favorite_candy.append(\"Nothing else\")\n",
    "\n",
    "print(favorite_candy)"
   ]
  },
  {
   "cell_type": "code",
   "execution_count": 18,
   "id": "0dfd1f12",
   "metadata": {},
   "outputs": [
    {
     "name": "stdout",
     "output_type": "stream",
     "text": [
      "['0', '1', '0', '1']\n",
      "['0', '1', '0', '1', 0]\n"
     ]
    }
   ],
   "source": [
    "# BLOCK 16 - After discussion with your TA, copy this code into the notebook and run it\n",
    "message = [\"0\", \"1\", \"0\", \"1\"]\n",
    "print(message)\n",
    "message.append(0)\n",
    "print(message)"
   ]
  },
  {
   "cell_type": "markdown",
   "id": "caee9224",
   "metadata": {},
   "source": [
    "## If statements"
   ]
  },
  {
   "cell_type": "code",
   "execution_count": 32,
   "id": "11c9c816",
   "metadata": {},
   "outputs": [
    {
     "name": "stdout",
     "output_type": "stream",
     "text": [
      "a is 31, b is 54\n",
      "b is bigger than a\n"
     ]
    }
   ],
   "source": [
    "# BLOCK 17 - Define two variables, \"a\" and \"b\". If a>b, print \"a is greater than b\"\n",
    "import random\n",
    "a, b = random.randint(1, 100), random.randint(1, 100)\n",
    "\n",
    "print((\"a is {}, b is {}\").format(a,b))\n",
    "if a > b:\n",
    "    print(\"a is bigger than b\")\n",
    "else:\n",
    "    print(\"b is bigger than a\")\n",
    "\n"
   ]
  },
  {
   "cell_type": "code",
   "execution_count": 33,
   "id": "aa4c58a1",
   "metadata": {},
   "outputs": [
    {
     "name": "stdout",
     "output_type": "stream",
     "text": [
      "a is 47, b is 49\n",
      "b is bigger than a\n"
     ]
    }
   ],
   "source": [
    "# BLOCK 18 - If a>b, print \"a is greater than b\". If a == b, print \"a is equal to b\".\n",
    "# If a<b, print \"a is less than b\".\n",
    "import random\n",
    "a, b = random.randint(1, 100), random.randint(1, 100)\n",
    "\n",
    "print((\"a is {}, b is {}\").format(a,b))\n",
    "if a > b:\n",
    "    print(\"a is bigger than b\")\n",
    "elif a == b:\n",
    "    print(\"a is equal to b\")\n",
    "else:\n",
    "    print(\"b is bigger than a\")\n"
   ]
  },
  {
   "cell_type": "code",
   "execution_count": 57,
   "id": "4b3c9fe4",
   "metadata": {},
   "outputs": [
    {
     "name": "stdout",
     "output_type": "stream",
     "text": [
      "x is 51, y is 19\n",
      "70\n"
     ]
    }
   ],
   "source": [
    "# BLOCK 19 - Define two variables, \"x\" and \"y\"\n",
    "# If x>y, print the value of x + y\n",
    "# If x<y, print the value of x/y\n",
    "# If x==y, print the value of x*y\n",
    "import random\n",
    "x, y = random.randint(1, 100), random.randint(1, 100)\n",
    "\n",
    "print((\"x is {}, y is {}\").format(x,y))\n",
    "if x > y:\n",
    "    print(x + y)\n",
    "elif x == y:\n",
    "    print(x * y)\n",
    "else:\n",
    "    print(x / y)"
   ]
  },
  {
   "cell_type": "code",
   "execution_count": null,
   "id": "5eb0ae4f",
   "metadata": {},
   "outputs": [],
   "source": [
    "# BLOCK 20 - After discussion with your TA, copy this code into the notebook and run it\n",
    "bit"
   ]
  },
  {
   "cell_type": "code",
   "execution_count": null,
   "id": "6cdb4683",
   "metadata": {},
   "outputs": [],
   "source": [
    "# BLOCK 21 - Create a list of your top 5 favorite foods. \n",
    "# If your top favorite food is pizza, print “Your favorite food is pizza.” \n",
    "# If your top favorite food is not pizza, print “Your favorite food is not pizza.”\n",
    "favorite_foods = [\"tomato soup\", \"french fries\", \"3\", \"4\",\"5\"]\n",
    "if \"pizza\" in favorite_foods:\n",
    "    "
   ]
  }
 ],
 "metadata": {
  "kernelspec": {
   "display_name": "Qiskit v0.29.0",
   "language": "python",
   "name": "python3"
  },
  "language_info": {
   "codemirror_mode": {
    "name": "ipython",
    "version": 3
   },
   "file_extension": ".py",
   "mimetype": "text/x-python",
   "name": "python",
   "nbconvert_exporter": "python",
   "pygments_lexer": "ipython3",
   "version": "3.8.10"
  },
  "widgets": {
   "application/vnd.jupyter.widget-state+json": {
    "state": {},
    "version_major": 2,
    "version_minor": 0
   }
  }
 },
 "nbformat": 4,
 "nbformat_minor": 5
}
